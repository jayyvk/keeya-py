{
  "cells": [
    {
      "cell_type": "markdown",
      "metadata": {},
      "source": [
        "# Keeya Demo - AI-Powered Python Library\n",
        "\n",
        "This notebook demonstrates how to use Keeya for AI-powered data science operations.\n"
      ]
    },
    {
      "cell_type": "code",
      "execution_count": null,
      "metadata": {},
      "outputs": [],
      "source": [
        "import keeya\n",
        "import pandas as pd\n",
        "import numpy as np\n"
      ]
    }
  ],
  "metadata": {
    "language_info": {
      "name": "python"
    }
  },
  "nbformat": 4,
  "nbformat_minor": 2
}
